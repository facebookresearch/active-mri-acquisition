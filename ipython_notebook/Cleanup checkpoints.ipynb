{
 "cells": [
  {
   "cell_type": "code",
   "execution_count": 7,
   "metadata": {
    "scrolled": false
   },
   "outputs": [
    {
     "name": "stdout",
     "output_type": "stream",
     "text": [
      "knee_baseline_automap2 find 32 files\n",
      "knee_energynet_pasnetplus_w111logvar_gradctx_pxlm_ablation find 48 files\n"
     ]
    }
   ],
   "source": [
    "import glob\n",
    "import os\n",
    "import shutil\n",
    "checkpoint_folders = glob.glob('/private/home/zizhao/work/checkpoint_fmri/mri_session_exp/*')\n",
    "\n",
    "move_path = '/private/home/zizhao/work/checkpoint_fmri/mri_session_exp_bk/'\n",
    "n = range(5,95,5)\n",
    "def cond(text):\n",
    "    return 'latest_' not in text\n",
    "\n",
    "for folder in checkpoint_folders:\n",
    "    files = [a for a in glob.glob(os.path.join(folder, '*.pth')) if cond(a)]\n",
    "        \n",
    "    if len(files) == 0: continue\n",
    "    print(f'{os.path.basename(folder)} find {len(files)} files')\n",
    "    name = os.path.basename(folder)\n",
    "    target_folder = os.path.join(move_path, name)\n",
    "    if not os.path.isdir(target_folder):\n",
    "        os.mkdir(target_folder)\n",
    "    for file in files:\n",
    "        taret_filename = os.path.join(target_folder, os.path.basename(file))\n",
    "#         print(f'move {file} to {taret_filename}')\n",
    "        shutil.move(file, taret_filename)\n",
    "    \n",
    "    \n",
    "    "
   ]
  },
  {
   "cell_type": "code",
   "execution_count": null,
   "metadata": {},
   "outputs": [],
   "source": [
    "move_path = '/private/home/zizhao/work/checkpoint_fmri/mri_session_v2/knee_energypasnetplus_w111logvar_0.1gan_gradctx_pxlm_2runfixpxlm/moving_ratio_experiment_test_latest/images/MSE_SSIM_moving_ratio.pickle'\n",
    "\n",
    "import pickle\n",
    "data = pickle.load(open(move_path, 'rb'))"
   ]
  },
  {
   "cell_type": "code",
   "execution_count": null,
   "metadata": {},
   "outputs": [],
   "source": [
    "data.keys()"
   ]
  },
  {
   "cell_type": "code",
   "execution_count": null,
   "metadata": {},
   "outputs": [],
   "source": [
    "import sys\n",
    "sys.path.insert(0, '/private/home/zizhao/work/fast_mri_master')\n",
    "from common import args, dicom_dataset, subsample\n",
    "args = args.Args().parse_args(args=[])\n",
    "mask_func = subsample.Mask(reuse_mask=True)\n",
    "\n",
    "for which in ('train', 'val', 'public_leaderboard', 'private_leaderboard'):\n",
    "    dataset = dicom_dataset.Slice(mask_func, args, which=which)\n",
    "    print(which, len(dataset))"
   ]
  },
  {
   "cell_type": "code",
   "execution_count": null,
   "metadata": {},
   "outputs": [],
   "source": [
    "sys.path.insert(0, '/private/home/zizhao/work/fmri/data/ft_data_loader')\n",
    "from parallel_data_loader_raw import PCASingleCoilSlice, Mask\n",
    "\n",
    "mask_func = Mask(reuse_mask=True, subsampling_ratio=keep_ratio, random=False)\n",
    "root = '/private/home/zizhao/work/mri_data/multicoil/raw_mmap/FBAI_Knee/'\n",
    "print(f'{which_dataset} val has {len(dataset)} samples')\n",
    "num_workers = 8\n",
    "for which in ('train', 'val', 'public_leaderboard', 'private_leaderboard'):\n",
    "    dataset = PCASingleCoilSlice(mask_func, root, which='val')\n",
    "    print(which, len(dataset))"
   ]
  },
  {
   "cell_type": "code",
   "execution_count": null,
   "metadata": {},
   "outputs": [],
   "source": []
  }
 ],
 "metadata": {
  "kernelspec": {
   "display_name": "Python 3",
   "language": "python",
   "name": "python3"
  },
  "language_info": {
   "codemirror_mode": {
    "name": "ipython",
    "version": 3
   },
   "file_extension": ".py",
   "mimetype": "text/x-python",
   "name": "python",
   "nbconvert_exporter": "python",
   "pygments_lexer": "ipython3",
   "version": "3.6.5"
  }
 },
 "nbformat": 4,
 "nbformat_minor": 2
}
