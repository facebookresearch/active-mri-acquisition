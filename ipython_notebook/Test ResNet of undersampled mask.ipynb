{
 "cells": [
  {
   "cell_type": "code",
   "execution_count": null,
   "metadata": {},
   "outputs": [],
   "source": [
    "import sys\n",
    "sys.path.insert(0,'../')\n",
    "from util.train_128gray_resnet import resnet128\n",
    "import torch\n",
    "imagnet_classifier = resnet128.resnet50().to(0)\n",
    "checkpoint_path = '/private/home/zizhao/work/checkpoint_fmri/resnset128_scratch/model_best.pth.tar'\n",
    "checkpoint = torch.load(checkpoint_path)\n",
    "print('checkpoint prec', checkpoint['best_prec1'])\n",
    "imagnet_classifier = torch.nn.DataParallel(imagnet_classifier, device_ids=[0]).cuda()\n",
    "imagnet_classifier.load_state_dict(checkpoint['state_dict'])\n",
    "imagnet_classifier.eval()\n",
    "classifier_mean = torch.cuda.FloatTensor([0.43, 0.43, 0.43]).view(1,3,1,1)\n",
    "classifier_std = torch.cuda.FloatTensor([0.23, 0.23, 0.23]).view(1,3,1,1)"
   ]
  },
  {
   "cell_type": "code",
   "execution_count": null,
   "metadata": {},
   "outputs": [],
   "source": [
    "import torchvision.datasets as datasets\n",
    "import os\n",
    "from torchvision import transforms\n",
    "\n",
    "valdir = os.path.join('/datasets01/imagenet_resized_144px/060718/061417', 'val')\n",
    "test_data_loader = torch.utils.data.DataLoader(\n",
    "    datasets.ImageFolder(valdir, transforms.Compose([\n",
    "        transforms.Grayscale(num_output_channels=1), # zz\n",
    "        transforms.Resize(144),\n",
    "        # transforms.Resize(224),\n",
    "        transforms.CenterCrop(128),\n",
    "        transforms.ToTensor(),\n",
    "        transforms.Normalize(mean=[0.5], std=[0.5])\n",
    "    ])),\n",
    "    batch_size=64, shuffle=False,\n",
    "    num_workers=4, pin_memory=True)"
   ]
  },
  {
   "cell_type": "code",
   "execution_count": null,
   "metadata": {
    "scrolled": false
   },
   "outputs": [],
   "source": [
    "def merge_kpsace(img, mask):\n",
    "    \n",
    "    p_fft = rfft(img[:,:1,:,:])\n",
    "    res = p_fft * mask \n",
    "    res = ifft(res)\n",
    "    return res[:,:1,:,:].repeat(1,3,1,1)\n",
    "\n",
    "from test_kspace_recom_classification import accuracy\n",
    "import numpy as np\n",
    "from models.fft_utils import create_mask\n",
    "from models.fft_utils import RFFT, IFFT\n",
    "import torchvision.utils as tvutil\n",
    "import matplotlib.pyplot as plt\n",
    "%matplotlib inline\n",
    "rfft = RFFT()\n",
    "ifft = IFFT()\n",
    "for ratio in np.arange(0.1,1,0.1):\n",
    "    mask = create_mask(mask_fraction=ratio).cuda()\n",
    "    accs = []\n",
    "    for i, (imgs, labels) in enumerate(test_data_loader):\n",
    "        imgs = imgs[:,:1,:,:].cuda()\n",
    "        imgs = imgs.add(1).div(2)\n",
    "        \n",
    "#         print(img.shape)\n",
    "#         import pdb; pdb.set_trace()\n",
    "        imgs = imgs.repeat(1,3,1,1)\n",
    "        inputs = (imgs - classifier_mean) / classifier_std\n",
    "        inputs = merge_kpsace(inputs, mask)\n",
    "#         plt.figure(figsize=(10,10))\n",
    "#         plt.imshow(tvutil.make_grid(imgs[:4], normalize=True, scale_each=True).permute(1,2,0))\n",
    "        acc = accuracy(imagnet_classifier(inputs).cpu(), labels, topk=(1,5))\n",
    "        acc = [a.item() for a in acc]\n",
    "        accs.append(acc)\n",
    "        if i > 1: break\n",
    "\n",
    "    print('ratio {} acc {}'.format(mask.mean(),  np.mean(np.array(accs), 0)))"
   ]
  },
  {
   "cell_type": "code",
   "execution_count": null,
   "metadata": {},
   "outputs": [],
   "source": [
    "64*1000"
   ]
  },
  {
   "cell_type": "code",
   "execution_count": null,
   "metadata": {},
   "outputs": [],
   "source": []
  }
 ],
 "metadata": {
  "kernelspec": {
   "display_name": "Python 3",
   "language": "python",
   "name": "python3"
  },
  "language_info": {
   "codemirror_mode": {
    "name": "ipython",
    "version": 3
   },
   "file_extension": ".py",
   "mimetype": "text/x-python",
   "name": "python",
   "nbconvert_exporter": "python",
   "pygments_lexer": "ipython3",
   "version": "3.6.5"
  }
 },
 "nbformat": 4,
 "nbformat_minor": 2
}
