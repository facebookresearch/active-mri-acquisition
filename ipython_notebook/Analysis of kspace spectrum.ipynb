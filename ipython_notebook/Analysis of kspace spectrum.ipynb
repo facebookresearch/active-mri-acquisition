{
 "cells": [
  {
   "cell_type": "code",
   "execution_count": 1,
   "metadata": {},
   "outputs": [
    {
     "ename": "ModuleNotFoundError",
     "evalue": "No module named 'models'",
     "output_type": "error",
     "traceback": [
      "\u001b[0;31m---------------------------------------------------------------------------\u001b[0m",
      "\u001b[0;31mModuleNotFoundError\u001b[0m                       Traceback (most recent call last)",
      "\u001b[0;32m<ipython-input-1-f2276b585f73>\u001b[0m in \u001b[0;36m<module>\u001b[0;34m()\u001b[0m\n\u001b[1;32m      1\u001b[0m \u001b[0;32mimport\u001b[0m \u001b[0mnumpy\u001b[0m \u001b[0;32mas\u001b[0m \u001b[0mnp\u001b[0m\u001b[0;34m\u001b[0m\u001b[0m\n\u001b[1;32m      2\u001b[0m \u001b[0;32mimport\u001b[0m \u001b[0mtorch\u001b[0m\u001b[0;34m\u001b[0m\u001b[0m\n\u001b[0;32m----> 3\u001b[0;31m \u001b[0;32mfrom\u001b[0m \u001b[0mmodels\u001b[0m\u001b[0;34m.\u001b[0m\u001b[0mfft_utils\u001b[0m \u001b[0;32mimport\u001b[0m \u001b[0;34m*\u001b[0m\u001b[0;34m\u001b[0m\u001b[0m\n\u001b[0m\u001b[1;32m      4\u001b[0m \u001b[0;32mimport\u001b[0m \u001b[0mmatplotlib\u001b[0m\u001b[0;34m.\u001b[0m\u001b[0mpyplot\u001b[0m \u001b[0;32mas\u001b[0m \u001b[0mplt\u001b[0m\u001b[0;34m\u001b[0m\u001b[0m\n\u001b[1;32m      5\u001b[0m \u001b[0mget_ipython\u001b[0m\u001b[0;34m(\u001b[0m\u001b[0;34m)\u001b[0m\u001b[0;34m.\u001b[0m\u001b[0mrun_line_magic\u001b[0m\u001b[0;34m(\u001b[0m\u001b[0;34m'matplotlib'\u001b[0m\u001b[0;34m,\u001b[0m \u001b[0;34m'inline'\u001b[0m\u001b[0;34m)\u001b[0m\u001b[0;34m\u001b[0m\u001b[0m\n",
      "\u001b[0;31mModuleNotFoundError\u001b[0m: No module named 'models'"
     ]
    }
   ],
   "source": [
    "import numpy as np\n",
    "import torch\n",
    "from models.fft_utils import *\n",
    "import matplotlib.pyplot as plt\n",
    "%matplotlib inline\n",
    "from data.ft_data_loader import ft_data_loader\n",
    "import sys\n",
    "which_dataset = 'KNEE'\n",
    "testloader = ft_data_loader.get_test_loader(batch_size=64,\n",
    "                                                    load_size=144,\n",
    "                                                    fine_size=128,\n",
    "                                                    keep_ratio=0.25,\n",
    "                                                    shuffle=True,\n",
    "                                                    num_workers=4,\n",
    "                                                    pin_memory=True,\n",
    "                                                    normalize='zero_one',\n",
    "                                                    which_dataset=which_dataset)\n",
    "\n",
    "def gen_kspace_mask(shape, ratio=0.25, mask_low_freqs = 5):\n",
    "    \n",
    "    h, w = shape\n",
    "    mask_fft = (np.random.RandomState(42).rand(h) < ratio).astype(np.float32)\n",
    "    mask_fft[:mask_low_freqs] = mask_fft[-mask_low_freqs:] = 1\n",
    "    mask_fft = torch.from_numpy(mask_fft).view(1, 1, h, 1)\n",
    "\n",
    "    return mask_fft\n",
    "RFFT = RFFT().to(0)\n",
    "IFFT = IFFT().to(0)\n",
    "IRFFT = IRFFT().to(0)\n",
    "FFT = FFT().to(0)\n",
    "mask = gen_kspace_mask((128,128),ratio=0.17)\n",
    "mask2 = gen_kspace_mask((128,128),ratio=0.2)\n",
    "plt.imshow(mask.expand(1,1,128,128)[0,0], cmap='jet')\n",
    "plt.axis('off')\n",
    "iter_loader = iter(testloader)\n",
    "img = iter_loader.next()[1][40:41]"
   ]
  },
  {
   "cell_type": "code",
   "execution_count": 2,
   "metadata": {},
   "outputs": [
    {
     "ename": "ModuleNotFoundError",
     "evalue": "No module named 'util'",
     "output_type": "error",
     "traceback": [
      "\u001b[0;31m---------------------------------------------------------------------------\u001b[0m",
      "\u001b[0;31mModuleNotFoundError\u001b[0m                       Traceback (most recent call last)",
      "\u001b[0;32m<ipython-input-2-5c1625bf54bd>\u001b[0m in \u001b[0;36m<module>\u001b[0;34m()\u001b[0m\n\u001b[1;32m      1\u001b[0m \u001b[0;31m# def seperate_kspace_channel(img):\u001b[0m\u001b[0;34m\u001b[0m\u001b[0;34m\u001b[0m\u001b[0m\n\u001b[0;32m----> 2\u001b[0;31m \u001b[0;32mfrom\u001b[0m \u001b[0mutil\u001b[0m \u001b[0;32mimport\u001b[0m \u001b[0mutil\u001b[0m\u001b[0;34m\u001b[0m\u001b[0m\n\u001b[0m\u001b[1;32m      3\u001b[0m \u001b[0;32mfrom\u001b[0m \u001b[0mtorchvision\u001b[0m\u001b[0;34m.\u001b[0m\u001b[0mutils\u001b[0m \u001b[0;32mimport\u001b[0m \u001b[0mmake_grid\u001b[0m\u001b[0;34m\u001b[0m\u001b[0m\n\u001b[1;32m      4\u001b[0m \u001b[0;34m\u001b[0m\u001b[0m\n\u001b[1;32m      5\u001b[0m \u001b[0mkspace\u001b[0m \u001b[0;34m=\u001b[0m \u001b[0mRFFT\u001b[0m\u001b[0;34m(\u001b[0m\u001b[0mimg\u001b[0m\u001b[0;34m)\u001b[0m\u001b[0;34m\u001b[0m\u001b[0m\n",
      "\u001b[0;31mModuleNotFoundError\u001b[0m: No module named 'util'"
     ]
    }
   ],
   "source": [
    "# def seperate_kspace_channel(img):\n",
    "from util import util\n",
    "from torchvision.utils import make_grid\n",
    "\n",
    "kspace = RFFT(img)\n",
    "k = torch.zeros(1,1,128,1)\n",
    "imgs = []\n",
    "wind = 32\n",
    "for i in range(128//wind):\n",
    "    _k = k.mul(1)\n",
    "    print(range(i*wind,(i+1)*wind))\n",
    "    _k[:,:,i*wind:(i+1)*wind,:] = 1\n",
    "    masked_kspace = kspace * _k\n",
    "    imgs.append(IFFT(masked_kspace)[:,:1,:,:])\n",
    "    \n",
    "I = torch.cat(imgs,0)\n",
    "I2 = util.mri_denormalize(I.mul(1))\n",
    "vis_img = make_grid(I2).permute(1,2,0)\n",
    "plt.figure(figsize=(20,20))\n",
    "plt.imshow(vis_img)\n",
    "\n",
    "    "
   ]
  },
  {
   "cell_type": "code",
   "execution_count": null,
   "metadata": {},
   "outputs": [],
   "source": []
  }
 ],
 "metadata": {
  "kernelspec": {
   "display_name": "Python 3",
   "language": "python",
   "name": "python3"
  },
  "language_info": {
   "codemirror_mode": {
    "name": "ipython",
    "version": 3
   },
   "file_extension": ".py",
   "mimetype": "text/x-python",
   "name": "python",
   "nbconvert_exporter": "python",
   "pygments_lexer": "ipython3",
   "version": "3.6.4"
  }
 },
 "nbformat": 4,
 "nbformat_minor": 2
}
