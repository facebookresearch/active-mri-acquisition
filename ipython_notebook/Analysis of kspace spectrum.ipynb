{
 "cells": [
  {
   "cell_type": "code",
   "execution_count": 1,
   "metadata": {},
   "outputs": [
    {
     "name": "stdout",
     "output_type": "stream",
     "text": [
      "load KNEE test dataset\n"
     ]
    },
    {
     "data": {
      "text/plain": [
       "(-0.5, 127.5, 127.5, -0.5)"
      ]
     },
     "execution_count": 1,
     "metadata": {},
     "output_type": "execute_result"
    },
    {
     "data": {
      "image/png": "[encoded data removed]",
      "text/plain": [
       "<Figure size 432x288 with 1 Axes>"
      ]
     },
     "metadata": {},
     "output_type": "display_data"
    }
   ],
   "source": [
    "import numpy as np\n",
    "import torch\n",
    "import sys\n",
    "sys.path.insert(0, '../')\n",
    "from models.fft_utils import *\n",
    "import matplotlib.pyplot as plt\n",
    "%matplotlib inline\n",
    "from data.ft_data_loader import ft_data_loader\n",
    "from util import util\n",
    "from torchvision.utils import make_grid\n",
    "import time\n",
    "which_dataset = 'KNEE'\n",
    "testloader = ft_data_loader.get_test_loader(batch_size=64,\n",
    "                                            load_size=144,\n",
    "                                            fine_size=128,\n",
    "                                            keep_ratio=0.25,\n",
    "                                            shuffle=True,\n",
    "                                            num_workers=4,\n",
    "                                            pin_memory=True,\n",
    "                                            normalize='zero_one',\n",
    "                                            which_dataset=which_dataset)\n",
    "\n",
    "def gen_kspace_mask(shape, ratio=0.25, mask_low_freqs = 5, seed=42):\n",
    "    \n",
    "    h, w = shape\n",
    "    mask_fft = (np.random.RandomState(seed).rand(h) < ratio).astype(np.float32)\n",
    "    mask_fft[:mask_low_freqs] = mask_fft[-mask_low_freqs:] = 1\n",
    "    mask_fft = torch.from_numpy(mask_fft).view(1, 1, h, 1)\n",
    "\n",
    "    return mask_fft\n",
    "RFFT = RFFT().to(0)\n",
    "IFFT = IFFT().to(0)\n",
    "IRFFT = IRFFT().to(0)\n",
    "FFT = FFT().to(0)\n",
    "mask = gen_kspace_mask((128,128),ratio=0.17)\n",
    "mask2 = gen_kspace_mask((128,128),ratio=0.2)\n",
    "\n",
    "iter_loader = iter(testloader)\n",
    "img = iter_loader.next()[1][40:41]\n",
    "\n",
    "masks = torch.cat([gen_kspace_mask((128,128),seed=np.random.randint(0,10000)) for _ in range(10)],0)\n",
    "plt.imshow(mask.expand(1,1,128,128)[0,0], cmap='jet')\n",
    "plt.axis('off')"
   ]
  },
  {
   "cell_type": "code",
   "execution_count": null,
   "metadata": {},
   "outputs": [],
   "source": [
    "img = iter_loader.next()[1][30:40]\n",
    "kspace = RFFT(img)\n",
    "\n",
    "seperate_kspace = kspace.unsqueeze(1).repeat(1,128,1,1,1)\n",
    "seperate_mask = torch.zeros_like(masks).repeat(1,128,1,1).unsqueeze(2)\n",
    "bz = masks.shape[0]\n",
    "\n",
    "# for i in range(bz):\n",
    "# #     idx = torch.nonzero(masks[i,0,:,0])\n",
    "# #     assert idx.shape[0] == mask.sum().item()\n",
    "#     seperate_mask[i,idx,:,idx,:] = 1 # [1,imsize,1,imsize,1]\n",
    "#     import pdb; pdb.set_trace()\n",
    "# #     if i < 10:\n",
    "# #         plt.figure()\n",
    "# #         plt.imshow(seperate_mask[i,])\n",
    "\n",
    "for i in range(128):\n",
    "    seperate_mask[:,i,:,i,:] = 1 # [1,imsize,1,imsize,1]\n",
    "#     import pdb; pdb.set_trace()\n",
    "\n",
    "masked_kspace = seperate_mask * seperate_kspace\n",
    "masked_kspace = masked_kspace.view(1280,2,128,128)\n",
    "I = IFFT(masked_kspace)[:,0,:,:].view(10,128,128,128)\n",
    "\n",
    "ID = 2\n",
    "I = I[ID,:,:,:].view(128,1,128,128)\n",
    "## test\n",
    "for i in range(128):\n",
    "    if masks[ID].view(-1)[i] == 0:\n",
    "        assert I[i].sum() == 0\n",
    "\n",
    "mask = masks[ID][0].repeat(1,128)\n",
    "\n",
    "# print(masks[ID])\n",
    "I2 = util.mri_denormalize(I.mul(1))\n",
    "vis_img = make_grid(I2).permute(1,2,0)\n",
    "plt.figure(figsize=(20,20))\n",
    "plt.imshow(vis_img)\n",
    "plt.axis('off')\n",
    "plt.figure(figsize=(5,5))\n",
    "plt.imshow(I.mean(0)[0])\n",
    "plt.figure(figsize=(5,5))   \n",
    "plt.imshow(mask)"
   ]
  },
  {
   "cell_type": "code",
   "execution_count": null,
   "metadata": {},
   "outputs": [],
   "source": [
    "# def seperate_kspace_channel(img):\n",
    "\n",
    "kspace = RFFT(img)\n",
    "k = torch.ones(1,1,128,1)\n",
    "t = k.sum()\n",
    "st = time.time()\n",
    "\n",
    "## loop way\n",
    "# imgs = []\n",
    "# wind = 1\n",
    "# for i in range(128//wind):\n",
    "#     _k = k.mul(1)\n",
    "# #     print(range(i*wind,(i+1)*wind))\n",
    "#     _k[:,:,i*wind:(i+1)*wind,:] = 1\n",
    "#     masked_kspace = kspace * _k\n",
    "#     imgs.append(IFFT(masked_kspace)[:,:1,:,:])\n",
    "# I = torch.cat(imgs,0)\n",
    "\n",
    "## faster way\n",
    "seperate_mask = torch.zeros(1,128,1,128,1)\n",
    "idx = torch.nonzero(k[0,0,:,0])\n",
    "assert idx.shape[0] == t.item()\n",
    "seperate_mask[:,idx,:,idx,:] = 1\n",
    "kspace = kspace.view(1,1,2,128,128).repeat(1,128,1,1,1)\n",
    "masked_kspace = seperate_mask * kspace\n",
    "masked_kspace = masked_kspace.view(128,2,128,128)\n",
    "I = IFFT(masked_kspace)[:,:1,:,:]\n",
    "end = time.time()\n",
    "\n",
    "print('time cost', end-st)\n",
    "I2 = util.mri_denormalize(I.mul(1))\n",
    "vis_img = make_grid(I2).permute(1,2,0)\n",
    "plt.figure(figsize=(20,20))\n",
    "plt.imshow(vis_img)\n",
    "plt.figure(figsize=(5,5))\n",
    "plt.imshow(I.mean(0)[0])\n",
    "    "
   ]
  },
  {
   "cell_type": "code",
   "execution_count": null,
   "metadata": {},
   "outputs": [],
   "source": [
    "conv = nn.Conv2d(128,32,1,1,padding=1,groups=1)\n",
    "conv2 = nn.Conv2d(32,1,1,1,padding=1,groups=1)\n",
    "h = conv(I.transpose(0,1))\n",
    "out = conv2(h)\n",
    "print(out.shape)\n",
    "print(conv.weight.data.shape)\n",
    "print(conv2.weight.data.shape)\n"
   ]
  },
  {
   "cell_type": "code",
   "execution_count": null,
   "metadata": {},
   "outputs": [],
   "source": [
    "yGrad = torch.zeros(1,1)\n",
    "def extract(xVar):\n",
    "    global yGrad\n",
    "    yGrad = xVar\n",
    "    print(yGrad)\n",
    "\n",
    "out.register_hook(extract)\n",
    "\n",
    "out = out.norm(2)\n",
    "out.backward()"
   ]
  },
  {
   "cell_type": "code",
   "execution_count": null,
   "metadata": {},
   "outputs": [],
   "source": []
  },
  {
   "cell_type": "code",
   "execution_count": 18,
   "metadata": {},
   "outputs": [
    {
     "data": {
      "text/plain": [
       "Text(0.5,0,'|k - t|')"
      ]
     },
     "execution_count": 18,
     "metadata": {},
     "output_type": "execute_result"
    },
    {
     "data": {
      "image/png": "[encoded data removed]",
      "text/plain": [
       "<Figure size 720x504 with 1 Axes>"
      ]
     },
     "metadata": {},
     "output_type": "display_data"
    }
   ],
   "source": [
    "import numpy as np\n",
    "f = lambda x: 1 - np.exp(-x*100)\n",
    "\n",
    "v = np.arange(0,0.1,0.001)\n",
    "\n",
    "plt.figure(figsize=(10,7))\n",
    "plt.plot(v,f(v), lw=5)\n",
    "plt.ylabel('Energy e', fontsize=20)\n",
    "plt.xlabel('|k - t|', fontsize=20)\n",
    "plt.xlabel('|k - t|', fontsize=20)\n",
    "# plt.title('Energy Dynamic Curve (\\gamma = 100)', fontsize=20)\n"
   ]
  },
  {
   "cell_type": "code",
   "execution_count": null,
   "metadata": {},
   "outputs": [],
   "source": []
  }
 ],
 "metadata": {
  "kernelspec": {
   "display_name": "Python 3",
   "language": "python",
   "name": "python3"
  },
  "language_info": {
   "codemirror_mode": {
    "name": "ipython",
    "version": 3
   },
   "file_extension": ".py",
   "mimetype": "text/x-python",
   "name": "python",
   "nbconvert_exporter": "python",
   "pygments_lexer": "ipython3",
   "version": "3.6.5"
  }
 },
 "nbformat": 4,
 "nbformat_minor": 2
}
